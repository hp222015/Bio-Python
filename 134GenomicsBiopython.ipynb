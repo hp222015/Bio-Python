{
 "cells": [
  {
   "cell_type": "code",
   "execution_count": 1,
   "id": "bd831404",
   "metadata": {},
   "outputs": [
    {
     "name": "stdout",
     "output_type": "stream",
     "text": [
      "Requirement already satisfied: biopython in c:\\users\\lenovo\\anaconda3\\lib\\site-packages (1.79)\n",
      "Requirement already satisfied: numpy in c:\\users\\lenovo\\anaconda3\\lib\\site-packages (from biopython) (1.21.5)\n",
      "Note: you may need to restart the kernel to use updated packages.\n"
     ]
    }
   ],
   "source": [
    "pip install biopython"
   ]
  },
  {
   "cell_type": "code",
   "execution_count": 4,
   "id": "9a27bac9",
   "metadata": {},
   "outputs": [
    {
     "ename": "ModuleNotFoundError",
     "evalue": "No module named 'biopython'",
     "output_type": "error",
     "traceback": [
      "\u001b[1;31m---------------------------------------------------------------------------\u001b[0m",
      "\u001b[1;31mModuleNotFoundError\u001b[0m                       Traceback (most recent call last)",
      "Input \u001b[1;32mIn [4]\u001b[0m, in \u001b[0;36m<cell line: 2>\u001b[1;34m()\u001b[0m\n\u001b[0;32m      1\u001b[0m \u001b[38;5;28;01mimport\u001b[39;00m \u001b[38;5;21;01mBio\u001b[39;00m\n\u001b[1;32m----> 2\u001b[0m \u001b[38;5;28;01mimport\u001b[39;00m \u001b[38;5;21;01mbiopython\u001b[39;00m\n\u001b[0;32m      3\u001b[0m \u001b[38;5;28;01mfrom\u001b[39;00m \u001b[38;5;21;01mBio\u001b[39;00m\u001b[38;5;21;01m.\u001b[39;00m\u001b[38;5;21;01mseq\u001b[39;00m \u001b[38;5;28;01mimport\u001b[39;00m Seq\n\u001b[0;32m      4\u001b[0m Seq(\u001b[38;5;124m\"\u001b[39m\u001b[38;5;124mAAAA\u001b[39m\u001b[38;5;124m\"\u001b[39m)\u001b[38;5;241m.\u001b[39mcount(\u001b[38;5;124m\"\u001b[39m\u001b[38;5;124mAA\u001b[39m\u001b[38;5;124m\"\u001b[39m)\n",
      "\u001b[1;31mModuleNotFoundError\u001b[0m: No module named 'biopython'"
     ]
    }
   ],
   "source": [
    "import Bio\n",
    "import biopython\n",
    "from Bio.seq import Seq\n",
    "Seq(\"AAAA\").count(\"AA\")"
   ]
  },
  {
   "cell_type": "code",
   "execution_count": null,
   "id": "d31023b1",
   "metadata": {},
   "outputs": [],
   "source": [
    "\"AAAA\".count(\"AA\")"
   ]
  },
  {
   "cell_type": "code",
   "execution_count": null,
   "id": "51ea3a64",
   "metadata": {},
   "outputs": [],
   "source": [
    "pip install biopython"
   ]
  },
  {
   "cell_type": "code",
   "execution_count": 6,
   "id": "2cb59f65",
   "metadata": {},
   "outputs": [
    {
     "name": "stdout",
     "output_type": "stream",
     "text": [
      "0 G\n",
      "1 A\n",
      "2 T\n",
      "3 C\n",
      "4 G\n"
     ]
    }
   ],
   "source": [
    "#import Bio\n",
    ">>> from Bio.Seq import Seq\n",
    ">>> my_seq = Seq(\"GATCG\")\n",
    ">>> for index, letter in enumerate(my_seq):\n",
    "...     print(\"%i %s\" % (index, letter))"
   ]
  },
  {
   "cell_type": "code",
   "execution_count": 7,
   "id": "7414094d",
   "metadata": {},
   "outputs": [
    {
     "name": "stdout",
     "output_type": "stream",
     "text": [
      "5\n"
     ]
    }
   ],
   "source": [
    ">>> print(len(my_seq))"
   ]
  },
  {
   "cell_type": "code",
   "execution_count": 8,
   "id": "e892d746",
   "metadata": {},
   "outputs": [
    {
     "data": {
      "text/plain": [
       "2"
      ]
     },
     "execution_count": 8,
     "metadata": {},
     "output_type": "execute_result"
    }
   ],
   "source": [
    ">>> from Bio.Seq import Seq\n",
    ">>> Seq(\"AAAA\").count(\"AA\")"
   ]
  },
  {
   "cell_type": "code",
   "execution_count": 10,
   "id": "fb19e0d7",
   "metadata": {},
   "outputs": [
    {
     "data": {
      "text/plain": [
       "2"
      ]
     },
     "execution_count": 10,
     "metadata": {},
     "output_type": "execute_result"
    }
   ],
   "source": [
    ">>> from Bio.Seq import Seq\n",
    ">>> Seq(\"AAAA\").count(\"AA\")\n"
   ]
  },
  {
   "cell_type": "code",
   "execution_count": 19,
   "id": "a479f188",
   "metadata": {},
   "outputs": [
    {
     "data": {
      "text/plain": [
       "16"
      ]
     },
     "execution_count": 19,
     "metadata": {},
     "output_type": "execute_result"
    }
   ],
   "source": [
    ">>> from Bio.Seq import Seq\n",
    ">>> my_seq = Seq(\"ATGCATGCATGCATGC\")\n",
    ">>> len(my_seq)"
   ]
  },
  {
   "cell_type": "code",
   "execution_count": 20,
   "id": "9c88a0a6",
   "metadata": {},
   "outputs": [
    {
     "data": {
      "text/plain": [
       "4"
      ]
     },
     "execution_count": 20,
     "metadata": {},
     "output_type": "execute_result"
    }
   ],
   "source": [
    ">>> my_seq.count(\"G\")"
   ]
  },
  {
   "cell_type": "code",
   "execution_count": 21,
   "id": "6a12be87",
   "metadata": {},
   "outputs": [
    {
     "data": {
      "text/plain": [
       "50.0"
      ]
     },
     "execution_count": 21,
     "metadata": {},
     "output_type": "execute_result"
    }
   ],
   "source": [
    ">>> 100 * float(my_seq.count(\"G\") + my_seq.count(\"C\")) / len(my_seq)"
   ]
  },
  {
   "cell_type": "code",
   "execution_count": 23,
   "id": "941fe620",
   "metadata": {},
   "outputs": [
    {
     "data": {
      "text/plain": [
       "Seq('GTAC')"
      ]
     },
     "execution_count": 23,
     "metadata": {},
     "output_type": "execute_result"
    }
   ],
   "source": [
    ">>> my_seq[6::3]"
   ]
  },
  {
   "cell_type": "code",
   "execution_count": 24,
   "id": "ddfa5a2e",
   "metadata": {},
   "outputs": [
    {
     "data": {
      "text/plain": [
       "'ATGCATGCATGCATGC'"
      ]
     },
     "execution_count": 24,
     "metadata": {},
     "output_type": "execute_result"
    }
   ],
   "source": [
    ">>> str(my_seq)"
   ]
  },
  {
   "cell_type": "code",
   "execution_count": 27,
   "id": "340fba01",
   "metadata": {},
   "outputs": [
    {
     "data": {
      "text/plain": [
       "Seq('ACGT')"
      ]
     },
     "execution_count": 27,
     "metadata": {},
     "output_type": "execute_result"
    }
   ],
   "source": [
    "my_seq[:10:3]"
   ]
  },
  {
   "cell_type": "code",
   "execution_count": 28,
   "id": "da7db3e4",
   "metadata": {},
   "outputs": [
    {
     "name": "stdout",
     "output_type": "stream",
     "text": [
      ">Name\n",
      "ATGCATGCATGCATGC\n",
      "\n"
     ]
    }
   ],
   "source": [
    ">>> fasta_format_string = \">Name\\n%s\\n\" % my_seq\n",
    ">>> print(fasta_format_string)"
   ]
  },
  {
   "cell_type": "code",
   "execution_count": 32,
   "id": "054f6f85",
   "metadata": {},
   "outputs": [
    {
     "data": {
      "text/plain": [
       "'ATGCATGCATGCATGC'"
      ]
     },
     "execution_count": 32,
     "metadata": {},
     "output_type": "execute_result"
    }
   ],
   "source": [
    ">>> s=\"%s\" % my_seq\n",
    ">>> s"
   ]
  },
  {
   "cell_type": "code",
   "execution_count": 33,
   "id": "1bee80cf",
   "metadata": {},
   "outputs": [
    {
     "data": {
      "text/plain": [
       "Seq('EF')"
      ]
     },
     "execution_count": 33,
     "metadata": {},
     "output_type": "execute_result"
    }
   ],
   "source": [
    ">>> from Bio.Seq import Seq\n",
    ">>> seq1= Seq(\"E\")\n",
    ">>> seq2= Seq(\"F\")\n",
    ">>> seq1+seq2"
   ]
  },
  {
   "cell_type": "code",
   "execution_count": 36,
   "id": "bb234992",
   "metadata": {},
   "outputs": [
    {
     "data": {
      "text/plain": [
       "Seq('ACGTAACCGGTT')"
      ]
     },
     "execution_count": 36,
     "metadata": {},
     "output_type": "execute_result"
    }
   ],
   "source": [
    ">>> from Bio.Seq import Seq\n",
    ">>> l1= [Seq(\"ACGT\"),Seq(\"AACC\"), Seq(\"GGTT\")]\n",
    ">>> concatenated = Seq(\"\")\n",
    ">>> for s in l1:        \n",
    "...    concatenated+=s\n",
    ">>> concatenated"
   ]
  },
  {
   "cell_type": "code",
   "execution_count": 37,
   "id": "9cd70a2a",
   "metadata": {},
   "outputs": [
    {
     "data": {
      "text/plain": [
       "Seq('ATGNNNNNNNNNNATCCCGNNNNNNNNNNTTCGA')"
      ]
     },
     "execution_count": 37,
     "metadata": {},
     "output_type": "execute_result"
    }
   ],
   "source": [
    ">>> from Bio.Seq import Seq\n",
    ">>> s=[Seq(\"ATG\"),Seq(\"ATCCCG\"),Seq(\"TTCGA\")]\n",
    ">>> s1= Seq(\"N\"*10)\n",
    ">>> s1.join(s)"
   ]
  },
  {
   "cell_type": "code",
   "execution_count": 38,
   "id": "c76dcf4a",
   "metadata": {},
   "outputs": [
    {
     "data": {
      "text/plain": [
       "Seq('acgtACGT')"
      ]
     },
     "execution_count": 38,
     "metadata": {},
     "output_type": "execute_result"
    }
   ],
   "source": [
    ">>> from Bio.Seq import Seq\n",
    ">>> dna_seq = Seq(\"acgtACGT\")\n",
    ">>> dna_seq"
   ]
  },
  {
   "cell_type": "code",
   "execution_count": 39,
   "id": "7cb3fb25",
   "metadata": {},
   "outputs": [
    {
     "data": {
      "text/plain": [
       "Seq('ACGTACGT')"
      ]
     },
     "execution_count": 39,
     "metadata": {},
     "output_type": "execute_result"
    }
   ],
   "source": [
    ">>> dna_seq.upper()"
   ]
  },
  {
   "cell_type": "code",
   "execution_count": 40,
   "id": "08a7a977",
   "metadata": {},
   "outputs": [
    {
     "data": {
      "text/plain": [
       "Seq('acgtacgt')"
      ]
     },
     "execution_count": 40,
     "metadata": {},
     "output_type": "execute_result"
    }
   ],
   "source": [
    ">>> dna_seq.lower()"
   ]
  },
  {
   "cell_type": "code",
   "execution_count": 41,
   "id": "f35c925c",
   "metadata": {},
   "outputs": [
    {
     "data": {
      "text/plain": [
       "True"
      ]
     },
     "execution_count": 41,
     "metadata": {},
     "output_type": "execute_result"
    }
   ],
   "source": [
    ">>> \"ACGT\" in dna_seq"
   ]
  },
  {
   "cell_type": "code",
   "execution_count": 42,
   "id": "3b3b58d7",
   "metadata": {},
   "outputs": [
    {
     "data": {
      "text/plain": [
       "Seq('ATCG')"
      ]
     },
     "execution_count": 42,
     "metadata": {},
     "output_type": "execute_result"
    }
   ],
   "source": [
    "# Nucleotide sequences and (reverse) complements\n",
    ">>> from Bio.Seq import Seq\n",
    ">>> sa= Seq(\"ATCG\")\n",
    ">>> sa"
   ]
  },
  {
   "cell_type": "code",
   "execution_count": 46,
   "id": "067ad278",
   "metadata": {},
   "outputs": [],
   "source": [
    "# Nucleotide sequences complement and reverse complement\n",
    ">>> sb=sa.complement()"
   ]
  },
  {
   "cell_type": "code",
   "execution_count": 48,
   "id": "27946605",
   "metadata": {},
   "outputs": [
    {
     "data": {
      "text/plain": [
       "Seq('TAGC')"
      ]
     },
     "execution_count": 48,
     "metadata": {},
     "output_type": "execute_result"
    }
   ],
   "source": [
    ">>> sb"
   ]
  },
  {
   "cell_type": "code",
   "execution_count": 45,
   "id": "a6d5c242",
   "metadata": {},
   "outputs": [
    {
     "data": {
      "text/plain": [
       "Seq('CGAT')"
      ]
     },
     "execution_count": 45,
     "metadata": {},
     "output_type": "execute_result"
    }
   ],
   "source": [
    ">>> sa.reverse_complement()"
   ]
  },
  {
   "cell_type": "code",
   "execution_count": 47,
   "id": "ad60d07f",
   "metadata": {},
   "outputs": [
    {
     "data": {
      "text/plain": [
       "Seq('CGAT')"
      ]
     },
     "execution_count": 47,
     "metadata": {},
     "output_type": "execute_result"
    }
   ],
   "source": [
    ">>> sb[::-1]"
   ]
  },
  {
   "cell_type": "code",
   "execution_count": 51,
   "id": "012884d1",
   "metadata": {},
   "outputs": [
    {
     "data": {
      "text/plain": [
       "Seq('TG')"
      ]
     },
     "execution_count": 51,
     "metadata": {},
     "output_type": "execute_result"
    }
   ],
   "source": [
    ">>> sb[0:3:2]"
   ]
  },
  {
   "cell_type": "code",
   "execution_count": 60,
   "id": "dc260106",
   "metadata": {},
   "outputs": [
    {
     "data": {
      "text/plain": [
       "Seq('AUGGCCAUUGUAAUGGGCCGCUGAAAGGGUGCCCGAUAG')"
      ]
     },
     "execution_count": 60,
     "metadata": {},
     "output_type": "execute_result"
    }
   ],
   "source": [
    "# Transcription (means DNA to RNA)\n",
    ">>> dna = Seq(\"ATGGCCATTGTAATGGGCCGCTGAAAGGGTGCCCGATAG\")\n",
    ">>> rna = dna.transcribe()\n",
    ">>> rna"
   ]
  },
  {
   "cell_type": "code",
   "execution_count": 61,
   "id": "767f8bae",
   "metadata": {},
   "outputs": [
    {
     "data": {
      "text/plain": [
       "Seq('ATGGCCATTGTAATGGGCCGCTGAAAGGGTGCCCGATAG')"
      ]
     },
     "execution_count": 61,
     "metadata": {},
     "output_type": "execute_result"
    }
   ],
   "source": [
    "# RNA to DNA\n",
    ">>> rna.back_transcribe()"
   ]
  },
  {
   "cell_type": "code",
   "execution_count": 62,
   "id": "a5f57f71",
   "metadata": {},
   "outputs": [
    {
     "data": {
      "text/plain": [
       "Seq('MAIVMGR*KGAR*')"
      ]
     },
     "execution_count": 62,
     "metadata": {},
     "output_type": "execute_result"
    }
   ],
   "source": [
    "# translation\n",
    ">>> dna.translate()"
   ]
  },
  {
   "cell_type": "code",
   "execution_count": 72,
   "id": "61c0e92c",
   "metadata": {},
   "outputs": [
    {
     "data": {
      "text/plain": [
       "Seq('MAIVMGRWKGAR*')"
      ]
     },
     "execution_count": 72,
     "metadata": {},
     "output_type": "execute_result"
    }
   ],
   "source": [
    ">>> dna.translate(table=3)"
   ]
  },
  {
   "cell_type": "code",
   "execution_count": 66,
   "id": "e4115446",
   "metadata": {},
   "outputs": [
    {
     "data": {
      "text/plain": [
       "Seq('MAIVMGR')"
      ]
     },
     "execution_count": 66,
     "metadata": {},
     "output_type": "execute_result"
    }
   ],
   "source": [
    ">>> dna.translate(to_stop=True)"
   ]
  },
  {
   "cell_type": "code",
   "execution_count": 67,
   "id": "1e4a7d11",
   "metadata": {},
   "outputs": [
    {
     "ename": "NameError",
     "evalue": "name 'dna1' is not defined",
     "output_type": "error",
     "traceback": [
      "\u001b[1;31m---------------------------------------------------------------------------\u001b[0m",
      "\u001b[1;31mNameError\u001b[0m                                 Traceback (most recent call last)",
      "Input \u001b[1;32mIn [67]\u001b[0m, in \u001b[0;36m<cell line: 1>\u001b[1;34m()\u001b[0m\n\u001b[1;32m----> 1\u001b[0m dna2\u001b[38;5;241m=\u001b[39m\u001b[43mdna1\u001b[49m\u001b[38;5;241m.\u001b[39mback_translate()\n",
      "\u001b[1;31mNameError\u001b[0m: name 'dna1' is not defined"
     ]
    }
   ],
   "source": [
    ">>> dna2=dna1.back_translate()"
   ]
  },
  {
   "cell_type": "code",
   "execution_count": null,
   "id": "7eb1c1f1",
   "metadata": {},
   "outputs": [],
   "source": []
  }
 ],
 "metadata": {
  "kernelspec": {
   "display_name": "Python 3 (ipykernel)",
   "language": "python",
   "name": "python3"
  },
  "language_info": {
   "codemirror_mode": {
    "name": "ipython",
    "version": 3
   },
   "file_extension": ".py",
   "mimetype": "text/x-python",
   "name": "python",
   "nbconvert_exporter": "python",
   "pygments_lexer": "ipython3",
   "version": "3.9.12"
  }
 },
 "nbformat": 4,
 "nbformat_minor": 5
}
